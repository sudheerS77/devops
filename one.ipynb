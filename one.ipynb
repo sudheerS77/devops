{
  "cells": [
    {
      "cell_type": "markdown",
      "metadata": {},
      "source": [
        "<b>Question - 1\n",
        ">What are Functions Used for<br>\n",
        "\n",
        "<b>answer\n",
        "- lorem\n",
        "- Functions are used because of reuseability, you can invoke the function many times, it makes the program easier to read.\n",
        "- Functions are used because of reuseability, you can invoke the function many times, it makes the program easier to read.\n",
        "- Functions are used because of reuseability, you can invoke the function many times, it makes the program easier to read.<br>\n",
        "<b>--------------------------------------------------------------------------------------------------------------------------------"
      ]
    },
    {
      "attachments": {},
      "cell_type": "markdown",
      "metadata": {},
      "source": [
        "<b>Question - 1\n",
        ">What are Functions Used for<br>\n",
        "\n",
        "<b>answer\n",
        "- lorem\n",
        "- Functions are used because of reuseability, you can invoke the function many times, it makes the program easier to read.\n",
        "- Functions are used because of reuseability, you can invoke the function many times, it makes the program easier to read.\n",
        "- Functions are used because of reuseability, you can invoke the function many times, it makes the program easier to read.<br>\n",
        "<b>_____________________________________________________________________________________________________________________________________________________________________________________________"
      ]
    },
    {
      "cell_type": "code",
      "execution_count": 2,
      "metadata": {},
      "outputs": [
        {
          "name": "stdout",
          "output_type": "stream",
          "text": [
            "0\n",
            "1\n",
            "2\n",
            "3\n",
            "4\n",
            "5\n",
            "6\n",
            "7\n",
            "8\n",
            "9\n"
          ]
        }
      ],
      "source": [
        "for i in range(10):\n",
        "    print(i)"
      ]
    }
  ],
  "metadata": {
    "kernelspec": {
      "display_name": "Python 3",
      "language": "python",
      "name": "python3"
    },
    "language_info": {
      "codemirror_mode": {
        "name": "ipython",
        "version": 3
      },
      "file_extension": ".py",
      "mimetype": "text/x-python",
      "name": "python",
      "nbconvert_exporter": "python",
      "pygments_lexer": "ipython3",
      "version": "3.10.5"
    },
    "vscode": {
      "interpreter": {
        "hash": "369f2c481f4da34e4445cda3fffd2e751bd1c4d706f27375911949ba6bb62e1c"
      }
    }
  },
  "nbformat": 4,
  "nbformat_minor": 4
}
