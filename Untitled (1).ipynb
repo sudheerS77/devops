{
  "metadata": {
    "language_info": {
      "codemirror_mode": {
        "name": "python",
        "version": 3
      },
      "file_extension": ".py",
      "mimetype": "text/x-python",
      "name": "python",
      "nbconvert_exporter": "python",
      "pygments_lexer": "ipython3",
      "version": "3.8"
    },
    "kernelspec": {
      "name": "python",
      "display_name": "Python (Pyodide)",
      "language": "python"
    }
  },
  "nbformat_minor": 4,
  "nbformat": 4,
  "cells": [
    {
      "cell_type": "markdown",
      "source": "<b>Question - 1\n>What are Functions Used for<br>\n\n<b>answer\n- lorem\n- Functions are used because of reuseability, you can invoke the function many times, it makes the program easier to read.\n- Functions are used because of reuseability, you can invoke the function many times, it makes the program easier to read.\n- Functions are used because of reuseability, you can invoke the function many times, it makes the program easier to read.<br>\n<b>--------------------------------------------------------------------------------------------------------------------------------",
      "metadata": {}
    }
  ]
}