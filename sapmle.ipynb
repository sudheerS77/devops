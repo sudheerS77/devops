{
 "cells": [
  {
   "attachments": {},
   "cell_type": "markdown",
   "metadata": {},
   "source": [
    ">1. What are Functions used for <br>\n",
    "> sol:\n",
    "> Functions are used because of reuseability, you can invoke the function many times, it makes the program easier to read.\n",
    "> Functions are used because of reuseability, you can invoke the function many times, it makes the program easier to read.\n",
    "-----------------------------------------------------------------------------------------------------------------------------"
   ]
  },
  {
   "attachments": {},
   "cell_type": "markdown",
   "metadata": {},
   "source": [
    "<b>Number 1 - \n",
    "- Question -\n",
    "> Why are functions advantageous to have in your programs?\n",
    "\n",
    "- Answer -\n",
    "> Functions reduce the need for duplicate code. This makes programs shorter, easier to read, and easier to update.\n",
    "\n",
    "    \n",
    "<b>------------------------------------------------------------------------------------------------------------------------------------------------------------------------------------------------------------------"
   ]
  },
  {
   "attachments": {},
   "cell_type": "markdown",
   "metadata": {},
   "source": [
    "<b>Question - 1\n",
    ">What are Functions Used for<br>\n",
    "\n",
    "<b>answer\n",
    "- lorem\n",
    "- Functions are used because of reuseability, you can invoke the function many times, it makes the program easier to read.\n",
    "- Functions are used because of reuseability, you can invoke the function many times, it makes the program easier to read.\n",
    "- Functions are used because of reuseability, you can invoke the function many times, it makes the program easier to read.<br>\n",
    "<b>--------------------------------------------------------------------------------------------------------------------------------"
   ]
  },
  {
   "cell_type": "markdown",
   "metadata": {},
   "source": []
  },
  {
   "cell_type": "markdown",
   "metadata": {},
   "source": []
  }
 ],
 "metadata": {
  "kernelspec": {
   "display_name": "Python 3",
   "language": "python",
   "name": "python3"
  },
  "language_info": {
   "name": "python",
   "version": "3.10.5 (tags/v3.10.5:f377153, Jun  6 2022, 16:14:13) [MSC v.1929 64 bit (AMD64)]"
  },
  "orig_nbformat": 4,
  "vscode": {
   "interpreter": {
    "hash": "369f2c481f4da34e4445cda3fffd2e751bd1c4d706f27375911949ba6bb62e1c"
   }
  }
 },
 "nbformat": 4,
 "nbformat_minor": 2
}
